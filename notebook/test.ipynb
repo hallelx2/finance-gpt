{
 "cells": [
  {
   "cell_type": "code",
   "execution_count": null,
   "metadata": {},
   "outputs": [],
   "source": [
    "import getpass\n",
    "from uuid import uuid4\n",
    "from pymongo import MongoClient\n",
    "from langchain_mongodb import MongoDBAtlasVectorSearch\n",
    "from langchain_core.documents import Document\n"
   ]
  }
 ],
 "metadata": {
  "kernelspec": {
   "display_name": "mongodb-ai-hackathon-r2q-mZgd",
   "language": "python",
   "name": "python3"
  },
  "language_info": {
   "name": "python",
   "version": "3.12.7"
  }
 },
 "nbformat": 4,
 "nbformat_minor": 2
}
